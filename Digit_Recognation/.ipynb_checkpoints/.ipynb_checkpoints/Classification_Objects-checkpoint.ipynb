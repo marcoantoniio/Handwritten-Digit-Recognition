{
 "cells": [
  {
   "cell_type": "code",
   "execution_count": 80,
   "id": "fb787bf0",
   "metadata": {},
   "outputs": [],
   "source": [
    "import tensorflow as tf\n",
    "from tensorflow import keras\n",
    "import matplotlib.pyplot as plt\n",
    "import pandas as pd\n",
    "import numpy as np\n",
    "import seaborn as sns\n",
    "from random import randrange"
   ]
  },
  {
   "cell_type": "code",
   "execution_count": 4,
   "id": "8e10d9e6",
   "metadata": {},
   "outputs": [
    {
     "name": "stdout",
     "output_type": "stream",
     "text": [
      "Downloading data from https://storage.googleapis.com/tensorflow/tf-keras-datasets/train-labels-idx1-ubyte.gz\n",
      "29515/29515 [==============================] - 0s 1us/step\n",
      "Downloading data from https://storage.googleapis.com/tensorflow/tf-keras-datasets/train-images-idx3-ubyte.gz\n",
      "26421880/26421880 [==============================] - 2s 0us/step\n",
      "Downloading data from https://storage.googleapis.com/tensorflow/tf-keras-datasets/t10k-labels-idx1-ubyte.gz\n",
      "5148/5148 [==============================] - 0s 0s/step\n",
      "Downloading data from https://storage.googleapis.com/tensorflow/tf-keras-datasets/t10k-images-idx3-ubyte.gz\n",
      "4422102/4422102 [==============================] - 0s 0us/step\n"
     ]
    }
   ],
   "source": [
    "fashion = keras.datasets.fashion_mnist\n",
    "(X_train, y_train), (X_test, y_test) = fashion.load_data()"
   ]
  },
  {
   "cell_type": "code",
   "execution_count": 8,
   "id": "c7f21e65",
   "metadata": {},
   "outputs": [
    {
     "data": {
      "text/plain": [
       "(60000, 28, 28)"
      ]
     },
     "execution_count": 8,
     "metadata": {},
     "output_type": "execute_result"
    }
   ],
   "source": [
    "X_train.shape"
   ]
  },
  {
   "cell_type": "code",
   "execution_count": 9,
   "id": "89f2388d",
   "metadata": {},
   "outputs": [
    {
     "data": {
      "text/plain": [
       "(10000, 28, 28)"
      ]
     },
     "execution_count": 9,
     "metadata": {},
     "output_type": "execute_result"
    }
   ],
   "source": [
    "X_test.shape"
   ]
  },
  {
   "cell_type": "code",
   "execution_count": 10,
   "id": "791cb330",
   "metadata": {},
   "outputs": [],
   "source": [
    "X_train = X_train.astype('float32') / 255\n",
    "X_test = X_test.astype('float32') / 255"
   ]
  },
  {
   "cell_type": "code",
   "execution_count": 11,
   "id": "39c5b665",
   "metadata": {},
   "outputs": [
    {
     "data": {
      "text/plain": [
       "array([9, 0, 0, ..., 3, 0, 5], dtype=uint8)"
      ]
     },
     "execution_count": 11,
     "metadata": {},
     "output_type": "execute_result"
    }
   ],
   "source": [
    "y_train"
   ]
  },
  {
   "cell_type": "code",
   "execution_count": 12,
   "id": "f161ce65",
   "metadata": {},
   "outputs": [],
   "source": [
    "class_names = [\n",
    "\"T-shirt/top\",\n",
    "\"Trouser\",\n",
    "\"Pullover\",\n",
    "\"Dress\",\n",
    "\"Coat\",\n",
    "\"Sandal\",\n",
    "\"Shirt\",\n",
    "\"Sneaker\",\n",
    "\"Bag\",\n",
    "\"Ankle boot\",\n",
    "]"
   ]
  },
  {
   "cell_type": "code",
   "execution_count": 13,
   "id": "a6370820",
   "metadata": {},
   "outputs": [
    {
     "data": {
      "text/plain": [
       "['T-shirt/top',\n",
       " 'Trouser',\n",
       " 'Pullover',\n",
       " 'Dress',\n",
       " 'Coat',\n",
       " 'Sandal',\n",
       " 'Shirt',\n",
       " 'Sneaker',\n",
       " 'Bag',\n",
       " 'Ankle boot']"
      ]
     },
     "execution_count": 13,
     "metadata": {},
     "output_type": "execute_result"
    }
   ],
   "source": [
    "class_names"
   ]
  },
  {
   "cell_type": "code",
   "execution_count": 14,
   "id": "8ba27678",
   "metadata": {},
   "outputs": [
    {
     "data": {
      "text/plain": [
       "9"
      ]
     },
     "execution_count": 14,
     "metadata": {},
     "output_type": "execute_result"
    }
   ],
   "source": [
    "y_train[0]"
   ]
  },
  {
   "cell_type": "code",
   "execution_count": 15,
   "id": "2dd35de3",
   "metadata": {},
   "outputs": [
    {
     "data": {
      "text/plain": [
       "'Ankle boot'"
      ]
     },
     "execution_count": 15,
     "metadata": {},
     "output_type": "execute_result"
    }
   ],
   "source": [
    "class_names[y_train[0]]"
   ]
  },
  {
   "cell_type": "code",
   "execution_count": 24,
   "id": "f6ad4a42",
   "metadata": {},
   "outputs": [
    {
     "data": {
      "text/plain": [
       "'Bag'"
      ]
     },
     "execution_count": 24,
     "metadata": {},
     "output_type": "execute_result"
    },
    {
     "data": {
      "image/png": "[encoded data removed]",
      "text/plain": [
       "<Figure size 640x480 with 1 Axes>"
      ]
     },
     "metadata": {},
     "output_type": "display_data"
    }
   ],
   "source": [
    "plt.imshow(X_train[100], cmap='gray')\n",
    "class_names[y_train[100]]"
   ]
  },
  {
   "cell_type": "code",
   "execution_count": 25,
   "id": "c3f477e7",
   "metadata": {},
   "outputs": [],
   "source": [
    "SNN = keras.models.Sequential()\n",
    "SNN.add(keras.layers.Flatten(input_shape=[28,28]))\n",
    "SNN.add(keras.layers.Dense(300, activation=\"relu\"))\n",
    "SNN.add(keras.layers.Dense(100, activation=\"relu\"))\n",
    "SNN.add(keras.layers.Dense(10, activation=\"softmax\"))"
   ]
  },
  {
   "cell_type": "code",
   "execution_count": 31,
   "id": "10b81b50",
   "metadata": {},
   "outputs": [
    {
     "name": "stdout",
     "output_type": "stream",
     "text": [
      "Model: \"sequential\"\n",
      "_________________________________________________________________\n",
      " Layer (type)                Output Shape              Param #   \n",
      "=================================================================\n",
      " flatten (Flatten)           (None, 784)               0         \n",
      "                                                                 \n",
      " dense (Dense)               (None, 300)               235500    \n",
      "                                                                 \n",
      " dense_1 (Dense)             (None, 100)               30100     \n",
      "                                                                 \n",
      " dense_2 (Dense)             (None, 10)                1010      \n",
      "                                                                 \n",
      "=================================================================\n",
      "Total params: 266,610\n",
      "Trainable params: 266,610\n",
      "Non-trainable params: 0\n",
      "_________________________________________________________________\n"
     ]
    }
   ],
   "source": [
    "SNN.summary()"
   ]
  },
  {
   "cell_type": "code",
   "execution_count": 30,
   "id": "dfe602f8",
   "metadata": {},
   "outputs": [
    {
     "data": {
      "text/plain": [
       "[<keras.layers.reshaping.flatten.Flatten at 0x150d8f276d0>,\n",
       " <keras.layers.core.dense.Dense at 0x150d8f338e0>,\n",
       " <keras.layers.core.dense.Dense at 0x150d8f5c7f0>,\n",
       " <keras.layers.core.dense.Dense at 0x150d8f332e0>]"
      ]
     },
     "execution_count": 30,
     "metadata": {},
     "output_type": "execute_result"
    }
   ],
   "source": [
    "SNN.layers"
   ]
  },
  {
   "cell_type": "code",
   "execution_count": 46,
   "id": "74741160",
   "metadata": {},
   "outputs": [],
   "source": [
    "Hidden1 = SNN.layers[1]"
   ]
  },
  {
   "cell_type": "code",
   "execution_count": 47,
   "id": "3b399c5b",
   "metadata": {},
   "outputs": [],
   "source": [
    "weights, biases = Hidden1.get_weights()"
   ]
  },
  {
   "cell_type": "code",
   "execution_count": 48,
   "id": "f3962e0d",
   "metadata": {},
   "outputs": [
    {
     "data": {
      "text/plain": [
       "array([[-0.05966011, -0.01330974, -0.02260655, ...,  0.01515679,\n",
       "        -0.05144359,  0.00697118],\n",
       "       [-0.00960101,  0.02004827, -0.03669297, ..., -0.01045295,\n",
       "        -0.04213861,  0.04914349],\n",
       "       [ 0.04371168,  0.03612074, -0.02128256, ...,  0.02483704,\n",
       "        -0.06285564,  0.06316334],\n",
       "       ...,\n",
       "       [ 0.06247121,  0.02729324, -0.08529497, ...,  0.00240714,\n",
       "        -0.00236745, -0.07194224],\n",
       "       [ 0.03573519, -0.05890791,  0.00309375, ...,  0.0137217 ,\n",
       "        -0.0126894 , -0.04533923],\n",
       "       [ 0.05105937,  0.04673673, -0.06149866, ..., -0.06001088,\n",
       "         0.03183584,  0.05623496]], dtype=float32)"
      ]
     },
     "execution_count": 48,
     "metadata": {},
     "output_type": "execute_result"
    }
   ],
   "source": [
    "weights"
   ]
  },
  {
   "cell_type": "code",
   "execution_count": 49,
   "id": "cf75b2e3",
   "metadata": {},
   "outputs": [
    {
     "data": {
      "text/plain": [
       "array([ 7.75524124e-04,  8.54824558e-02,  2.66522053e-03,  2.15235613e-02,\n",
       "        4.70904224e-02, -2.04721801e-02,  2.37929225e-01,  3.82360630e-02,\n",
       "        8.48568976e-02, -2.11038510e-03, -1.26490489e-01,  2.37159971e-02,\n",
       "        5.97773343e-02,  5.41271716e-02, -1.92761421e-02, -9.04081296e-03,\n",
       "        8.09731483e-02,  1.29805624e-01,  3.74177322e-02,  1.25375405e-01,\n",
       "        2.56734699e-01,  1.62238777e-01,  4.30475473e-02,  3.90668660e-02,\n",
       "        4.51492891e-02,  1.31781280e-01, -9.80373323e-02, -1.29846176e-02,\n",
       "       -1.51117161e-01,  8.57682608e-04, -2.92243268e-02,  2.97237672e-02,\n",
       "       -1.68097876e-02, -2.26825252e-02,  1.79814965e-01, -5.69222793e-02,\n",
       "       -8.50659423e-03, -1.20577119e-01,  4.83959205e-02, -6.01772480e-02,\n",
       "        6.40940890e-02,  7.00824484e-02, -9.63683985e-03, -1.02800261e-02,\n",
       "       -1.67025194e-01,  1.29403904e-01,  6.46808818e-02,  1.13041833e-01,\n",
       "        3.01781237e-01, -1.37399510e-01,  9.14269090e-02,  1.19683079e-01,\n",
       "        1.08544886e-01,  1.96200669e-01,  1.86038047e-01, -8.74712765e-02,\n",
       "        1.05814869e-02,  1.57148577e-02,  1.03182308e-01,  2.40264490e-01,\n",
       "       -6.21371530e-02, -2.81282198e-02,  2.25172177e-01,  2.10649148e-03,\n",
       "        2.97316313e-01, -9.93046835e-02,  1.58155978e-01, -9.40144956e-02,\n",
       "        8.26578438e-02,  2.60022352e-03,  2.35456624e-03, -1.20839611e-01,\n",
       "        2.07351044e-01,  9.01301131e-02,  1.29899263e-01,  7.38426298e-02,\n",
       "        4.76977676e-02,  6.53713122e-02,  1.13422334e-01, -8.87064040e-02,\n",
       "        1.57342982e-02, -9.85345710e-03,  1.58214450e-01,  4.97827344e-02,\n",
       "        6.69201612e-02,  1.32639885e-01, -2.94379946e-02,  1.82157278e-01,\n",
       "       -2.50594784e-02, -1.44628108e-01, -1.59062222e-01, -8.88939798e-02,\n",
       "        1.71431109e-01,  5.08937873e-02,  2.95739472e-01,  2.93433722e-02,\n",
       "        9.60869193e-02, -2.11614161e-03,  1.56127885e-01,  8.82524252e-02,\n",
       "        1.81119159e-01,  5.88761605e-02,  8.89086723e-02, -7.01746996e-03,\n",
       "        1.36314076e-03,  5.79162501e-02, -3.53734232e-02, -2.35763974e-02,\n",
       "        2.06102673e-02, -1.16546780e-01,  6.77670985e-02, -5.20783439e-02,\n",
       "        1.85183287e-01,  6.27205968e-02,  4.12287423e-03,  5.35197221e-02,\n",
       "       -3.94318663e-02, -4.14400026e-02,  8.44115019e-02, -4.91877757e-02,\n",
       "        3.12389433e-02,  7.73532912e-02,  4.61003743e-02, -5.24732806e-02,\n",
       "        1.28959250e-02,  1.04699939e-01,  5.72844632e-02,  9.22181979e-02,\n",
       "       -1.76304132e-02,  2.32375950e-01,  1.11858845e-01,  8.07672217e-02,\n",
       "        1.73536479e-01,  4.83314181e-03,  7.19249621e-02, -1.66808106e-02,\n",
       "        1.41002657e-02,  1.78333577e-02,  8.69022384e-02,  1.15629472e-01,\n",
       "        1.26262223e-02, -8.41888264e-02,  7.90315941e-02,  2.17859633e-02,\n",
       "        7.17058256e-02,  6.77411258e-02, -2.10881159e-02, -7.31545538e-02,\n",
       "        2.21960358e-02,  9.91898179e-02,  3.18142138e-02,  9.62609332e-03,\n",
       "        9.77042019e-02,  1.25110913e-02, -5.97488433e-02, -2.57474072e-02,\n",
       "       -9.11705643e-02, -1.35575701e-02,  3.10492963e-01,  1.09683104e-01,\n",
       "        9.12840515e-02,  1.06189452e-01,  5.51540628e-02,  6.87050298e-02,\n",
       "       -1.40632438e-02,  1.17070265e-01, -5.45189641e-02,  3.56402136e-02,\n",
       "       -1.01476185e-01, -3.84679586e-02,  2.52202675e-02,  3.82492058e-02,\n",
       "        1.25907697e-02,  1.52684841e-03,  7.12665245e-02,  1.42723424e-02,\n",
       "       -9.06118564e-03, -1.34240575e-02,  1.96732298e-01,  2.52817392e-01,\n",
       "       -2.04062872e-02, -2.40062922e-02,  3.50447536e-01, -5.04911430e-02,\n",
       "        1.22968502e-01,  7.04937503e-02,  1.08373158e-01,  2.53015123e-02,\n",
       "        1.55423284e-01, -2.20867489e-02,  2.44692173e-02,  1.53288648e-01,\n",
       "        6.00481145e-02,  1.81358159e-01,  1.48333699e-01, -1.51726929e-02,\n",
       "        5.93277216e-02,  4.66576815e-02, -2.09718980e-02,  6.33989945e-02,\n",
       "        2.24926054e-01, -1.44772410e-01,  1.75861955e-01,  1.40771061e-01,\n",
       "        1.63645029e-01, -5.19336909e-02,  2.34094188e-02, -1.43503338e-01,\n",
       "        8.32980201e-02,  1.40425175e-01,  8.63972604e-02,  1.17053185e-02,\n",
       "        1.02271408e-01, -9.50236246e-02,  6.17482737e-02,  5.11666052e-02,\n",
       "        2.76111010e-02,  2.59521138e-02, -3.44877280e-02,  4.99937870e-02,\n",
       "        2.01540422e-02,  2.66697198e-01,  5.80842830e-02, -1.68154109e-02,\n",
       "        4.96655628e-02, -4.18395177e-02,  1.42335936e-01,  2.82195091e-01,\n",
       "       -2.30320305e-01,  2.89149187e-03, -6.06324300e-02,  4.52107564e-03,\n",
       "        1.88756451e-01,  1.25401348e-01, -2.06289683e-02,  2.04971939e-01,\n",
       "        7.50873163e-02,  8.31522122e-02,  1.11605696e-01,  6.84784725e-02,\n",
       "        8.54120776e-02,  1.45080322e-02,  7.54974484e-02,  1.33530349e-01,\n",
       "        2.41555616e-01, -1.18086867e-01,  8.88127312e-02, -1.10231750e-02,\n",
       "       -1.27400503e-01,  2.08771124e-01,  3.43596339e-02,  1.50513262e-01,\n",
       "        1.75473392e-02, -1.35244979e-02,  4.72922362e-02,  3.74301337e-02,\n",
       "        7.32945427e-02, -1.95863715e-04,  8.45435448e-03, -4.33600554e-03,\n",
       "        7.49148354e-02,  2.82741375e-02, -6.26369640e-02,  6.58687279e-02,\n",
       "        6.72982261e-02,  2.02756286e-01,  3.73980366e-02, -8.94259755e-03,\n",
       "       -1.03511415e-01,  1.24764383e-01,  2.00755626e-01,  1.59753129e-01,\n",
       "        1.36480883e-01,  4.41500992e-02, -2.76259799e-02,  8.48039868e-04,\n",
       "        1.50553137e-01,  4.28059604e-03,  2.00431585e-01,  9.17717367e-02,\n",
       "        3.08248878e-01,  7.78037636e-03,  3.30517083e-01, -8.79167579e-03,\n",
       "        5.56715913e-02,  1.27732754e-01,  5.46941422e-02,  4.11399044e-02,\n",
       "        2.00533662e-02,  1.94726750e-01,  9.31334198e-02,  9.31923166e-02,\n",
       "        5.23939393e-02, -6.99205995e-02, -3.40369642e-02,  1.07634820e-01,\n",
       "        7.93486759e-02, -2.68094260e-02, -2.14129989e-03,  4.05028388e-02],\n",
       "      dtype=float32)"
      ]
     },
     "execution_count": 49,
     "metadata": {},
     "output_type": "execute_result"
    }
   ],
   "source": [
    "biases"
   ]
  },
  {
   "cell_type": "code",
   "execution_count": 35,
   "id": "87352078",
   "metadata": {},
   "outputs": [],
   "source": [
    "SNN.compile(loss=\"sparse_categorical_crossentropy\",\n",
    "           optimizer=\"sgd\",\n",
    "           metrics=[\"accuracy\"])"
   ]
  },
  {
   "cell_type": "code",
   "execution_count": 41,
   "id": "2cbbc1c2",
   "metadata": {},
   "outputs": [
    {
     "name": "stdout",
     "output_type": "stream",
     "text": [
      "Epoch 1/30\n",
      "1875/1875 [==============================] - 4s 2ms/step - loss: 0.2224 - accuracy: 0.9197\n",
      "Epoch 2/30\n",
      "1875/1875 [==============================] - 4s 2ms/step - loss: 0.2187 - accuracy: 0.9216\n",
      "Epoch 3/30\n",
      "1875/1875 [==============================] - 5s 3ms/step - loss: 0.2158 - accuracy: 0.9221\n",
      "Epoch 4/30\n",
      "1875/1875 [==============================] - 4s 2ms/step - loss: 0.2122 - accuracy: 0.9240\n",
      "Epoch 5/30\n",
      "1875/1875 [==============================] - 4s 2ms/step - loss: 0.2089 - accuracy: 0.9262\n",
      "Epoch 6/30\n",
      "1875/1875 [==============================] - 6s 3ms/step - loss: 0.2053 - accuracy: 0.9265\n",
      "Epoch 7/30\n",
      "1875/1875 [==============================] - 4s 2ms/step - loss: 0.2024 - accuracy: 0.9273\n",
      "Epoch 8/30\n",
      "1875/1875 [==============================] - 4s 2ms/step - loss: 0.1995 - accuracy: 0.9279\n",
      "Epoch 9/30\n",
      "1875/1875 [==============================] - 4s 2ms/step - loss: 0.1967 - accuracy: 0.9288\n",
      "Epoch 10/30\n",
      "1875/1875 [==============================] - 5s 3ms/step - loss: 0.1937 - accuracy: 0.9311\n",
      "Epoch 11/30\n",
      "1875/1875 [==============================] - 4s 2ms/step - loss: 0.1913 - accuracy: 0.9308\n",
      "Epoch 12/30\n",
      "1875/1875 [==============================] - 4s 2ms/step - loss: 0.1877 - accuracy: 0.9329\n",
      "Epoch 13/30\n",
      "1875/1875 [==============================] - 4s 2ms/step - loss: 0.1858 - accuracy: 0.9338\n",
      "Epoch 14/30\n",
      "1875/1875 [==============================] - 5s 3ms/step - loss: 0.1825 - accuracy: 0.9346\n",
      "Epoch 15/30\n",
      "1875/1875 [==============================] - 4s 2ms/step - loss: 0.1800 - accuracy: 0.9354\n",
      "Epoch 16/30\n",
      "1875/1875 [==============================] - 4s 2ms/step - loss: 0.1762 - accuracy: 0.9374\n",
      "Epoch 17/30\n",
      "1875/1875 [==============================] - 9s 5ms/step - loss: 0.1737 - accuracy: 0.9378\n",
      "Epoch 18/30\n",
      "1875/1875 [==============================] - 6s 3ms/step - loss: 0.1721 - accuracy: 0.9382\n",
      "Epoch 19/30\n",
      "1875/1875 [==============================] - 6s 3ms/step - loss: 0.1690 - accuracy: 0.9395\n",
      "Epoch 20/30\n",
      "1875/1875 [==============================] - 4s 2ms/step - loss: 0.1660 - accuracy: 0.9410\n",
      "Epoch 21/30\n",
      "1875/1875 [==============================] - 4s 2ms/step - loss: 0.1644 - accuracy: 0.9413\n",
      "Epoch 22/30\n",
      "1875/1875 [==============================] - 4s 2ms/step - loss: 0.1607 - accuracy: 0.9421\n",
      "Epoch 23/30\n",
      "1875/1875 [==============================] - 4s 2ms/step - loss: 0.1591 - accuracy: 0.9436\n",
      "Epoch 24/30\n",
      "1875/1875 [==============================] - 4s 2ms/step - loss: 0.1556 - accuracy: 0.9441\n",
      "Epoch 25/30\n",
      "1875/1875 [==============================] - 4s 2ms/step - loss: 0.1540 - accuracy: 0.9451\n",
      "Epoch 26/30\n",
      "1875/1875 [==============================] - 4s 2ms/step - loss: 0.1525 - accuracy: 0.9465\n",
      "Epoch 27/30\n",
      "1875/1875 [==============================] - 5s 3ms/step - loss: 0.1484 - accuracy: 0.9478\n",
      "Epoch 28/30\n",
      "1875/1875 [==============================] - 4s 2ms/step - loss: 0.1475 - accuracy: 0.9475\n",
      "Epoch 29/30\n",
      "1875/1875 [==============================] - 4s 2ms/step - loss: 0.1452 - accuracy: 0.9481\n",
      "Epoch 30/30\n",
      "1875/1875 [==============================] - 4s 2ms/step - loss: 0.1420 - accuracy: 0.9506\n"
     ]
    }
   ],
   "source": [
    "history = SNN.fit(X_train, y_train, epochs=30)"
   ]
  },
  {
   "cell_type": "code",
   "execution_count": 42,
   "id": "d4752ec0",
   "metadata": {},
   "outputs": [
    {
     "name": "stdout",
     "output_type": "stream",
     "text": [
      "313/313 [==============================] - 0s 2ms/step - loss: 0.3339 - accuracy: 0.8901\n"
     ]
    },
    {
     "data": {
      "text/plain": [
       "[0.3339153230190277, 0.8901000022888184]"
      ]
     },
     "execution_count": 42,
     "metadata": {},
     "output_type": "execute_result"
    }
   ],
   "source": [
    "SNN.evaluate(X_test, y_test)"
   ]
  },
  {
   "cell_type": "code",
   "execution_count": 43,
   "id": "9f844aac",
   "metadata": {},
   "outputs": [
    {
     "data": {
      "image/png": "[encoded data removed]",
      "text/plain": [
       "<Figure size 800x500 with 1 Axes>"
      ]
     },
     "metadata": {},
     "output_type": "display_data"
    }
   ],
   "source": [
    "pd.DataFrame(history.history).plot(figsize=(8,5))\n",
    "plt.grid(True)\n",
    "plt.gca().set_ylim(0,1)\n",
    "plt.show()"
   ]
  },
  {
   "cell_type": "code",
   "execution_count": 51,
   "id": "79aa2e68",
   "metadata": {},
   "outputs": [
    {
     "name": "stdout",
     "output_type": "stream",
     "text": [
      "313/313 [==============================] - 0s 1ms/step\n"
     ]
    }
   ],
   "source": [
    "predict_y = SNN.predict(X_test)"
   ]
  },
  {
   "cell_type": "code",
   "execution_count": 53,
   "id": "e8b3a738",
   "metadata": {},
   "outputs": [
    {
     "data": {
      "text/plain": [
       "array([[0., 0., 0., ..., 0., 0., 1.],\n",
       "       [0., 0., 1., ..., 0., 0., 0.],\n",
       "       [0., 1., 0., ..., 0., 0., 0.],\n",
       "       ...,\n",
       "       [0., 0., 0., ..., 0., 1., 0.],\n",
       "       [0., 1., 0., ..., 0., 0., 0.],\n",
       "       [0., 0., 0., ..., 0., 0., 0.]], dtype=float32)"
      ]
     },
     "execution_count": 53,
     "metadata": {},
     "output_type": "execute_result"
    }
   ],
   "source": [
    "predict_y.round(2)"
   ]
  },
  {
   "cell_type": "code",
   "execution_count": 54,
   "id": "c3972229",
   "metadata": {},
   "outputs": [],
   "source": [
    "predict_class = np.argmax(predict_y, axis=1)"
   ]
  },
  {
   "cell_type": "code",
   "execution_count": 55,
   "id": "1777aa8b",
   "metadata": {},
   "outputs": [
    {
     "data": {
      "text/plain": [
       "array([9, 2, 1, ..., 8, 1, 5], dtype=int64)"
      ]
     },
     "execution_count": 55,
     "metadata": {},
     "output_type": "execute_result"
    }
   ],
   "source": [
    "predict_class"
   ]
  },
  {
   "cell_type": "code",
   "execution_count": 56,
   "id": "755e8dc2",
   "metadata": {},
   "outputs": [
    {
     "data": {
      "text/plain": [
       "array(['Ankle boot', 'Pullover', 'Trouser', ..., 'Bag', 'Trouser',\n",
       "       'Sandal'], dtype='<U11')"
      ]
     },
     "execution_count": 56,
     "metadata": {},
     "output_type": "execute_result"
    }
   ],
   "source": [
    "np.array(class_names)[predict_class]"
   ]
  },
  {
   "cell_type": "code",
   "execution_count": 74,
   "id": "b565212e",
   "metadata": {},
   "outputs": [
    {
     "name": "stdout",
     "output_type": "stream",
     "text": [
      "the prediction for this item is Coat\n"
     ]
    },
    {
     "data": {
      "image/png": "[encoded data removed]",
      "text/plain": [
       "<Figure size 640x480 with 1 Axes>"
      ]
     },
     "metadata": {},
     "output_type": "display_data"
    }
   ],
   "source": [
    "item = randrange(10000)\n",
    "plt.imshow(X_test[item], cmap='gray')\n",
    "print(f\"the prediction for this item is {class_names[predict_class[item]]}\")"
   ]
  },
  {
   "cell_type": "code",
   "execution_count": 78,
   "id": "07de2380",
   "metadata": {},
   "outputs": [],
   "source": [
    "from sklearn import metrics\n",
    "confusionmatrix = metrics.confusion_matrix(y_test, predict_class)"
   ]
  },
  {
   "cell_type": "code",
   "execution_count": 93,
   "id": "63ce48d6",
   "metadata": {},
   "outputs": [
    {
     "data": {
      "image/png": "[encoded data removed]",
      "text/plain": [
       "<Figure size 1000x1000 with 1 Axes>"
      ]
     },
     "metadata": {},
     "output_type": "display_data"
    }
   ],
   "source": [
    "plt.figure(figsize=(10,10))\n",
    "sns.heatmap(confusionmatrix, annot=True, fmt='d', cmap='Blues', cbar=False)\n",
    "plt.title(\"The confusion matrix\")\n",
    "plt.ylabel(\"Actual item\")\n",
    "plt.xlabel(\"Classified item\")\n",
    "plt.xticks(np.arange(10) + 0.5, [\n",
    "\"T-shirt/top\",\n",
    "\"Trouser\",\n",
    "\"Pullover\",\n",
    "\"Dress\",\n",
    "\"Coat\",\n",
    "\"Sandal\",\n",
    "\"Shirt\",\n",
    "\"Sneaker\",\n",
    "\"Bag\",\n",
    "\"Ankle boot\",\n",
    "])\n",
    "plt.yticks(np.arange(10) + 0.5, [\n",
    "\"T-shirt/top\",\n",
    "\"Trouser\",\n",
    "\"Pullover\",\n",
    "\"Dress\",\n",
    "\"Coat\",\n",
    "\"Sandal\",\n",
    "\"Shirt\",\n",
    "\"Sneaker\",\n",
    "\"Bag\",\n",
    "\"Ankle boot\",\n",
    "])\n",
    "plt.show()"
   ]
  },
  {
   "cell_type": "code",
   "execution_count": null,
   "id": "c63b1436",
   "metadata": {},
   "outputs": [],
   "source": []
  }
 ],
 "metadata": {
  "kernelspec": {
   "display_name": "Python 3 (ipykernel)",
   "language": "python",
   "name": "python3"
  },
  "language_info": {
   "codemirror_mode": {
    "name": "ipython",
    "version": 3
   },
   "file_extension": ".py",
   "mimetype": "text/x-python",
   "name": "python",
   "nbconvert_exporter": "python",
   "pygments_lexer": "ipython3",
   "version": "3.9.17"
  }
 },
 "nbformat": 4,
 "nbformat_minor": 5
}
